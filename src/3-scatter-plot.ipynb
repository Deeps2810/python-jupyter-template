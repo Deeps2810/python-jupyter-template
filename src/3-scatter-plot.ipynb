{
 "cells": [
  {
   "cell_type": "markdown",
   "metadata": {},
   "source": [
    "### Exercise 3: Scatter Plot with Annotations"
   ]
  },
  {
   "cell_type": "code",
   "execution_count": null,
   "metadata": {},
   "outputs": [],
   "source": [
    "# TASK: Create a scatter plot with x = [1, 2, 3, 4, 5] and y = [2, 4, 6, 8, 10].\n",
    "# Annotate each point with its (x, y) value, and set the title as 'Scatter Plot with Annotations'.\n",
    "#scatter plot\n",
    "import matplotlib.pyplot as plt\n",
    "\n",
    "def generate_data():\n",
    "    \"\"\"Generates x and y values for the scatter plot.\"\"\"\n",
    "    try:\n",
    "        x = [1, 2, 3, 4, 5]\n",
    "        y = [2, 4, 6, 8, 10]\n",
    "        return x, y\n",
    "    except Exception as e:\n",
    "        print(f\"Error generating data: {e}\")\n",
    "        return None, None\n",
    "\n",
    "def plot_data(x, y):\n",
    "    \"\"\"Plots the scatter chart with annotations and error handling.\"\"\"\n",
    "    try:\n",
    "        if x is None or y is None:\n",
    "            raise ValueError(\"Invalid data. Cannot plot.\")\n",
    "        \n",
    "        plt.figure(figsize=(6, 4))\n",
    "        plt.scatter(x, y, color='blue', label='Data Points')\n",
    "\n",
    "        # Annotate each point with its (x, y) value\n",
    "        for i in range(len(x)):\n",
    "            plt.annotate(f\"({x[i]}, {y[i]})\", (x[i], y[i]), textcoords=\"offset points\", xytext=(5,5), ha='right')\n",
    "\n",
    "        # Customize the plot\n",
    "        plt.title('Scatter Plot with Annotations')\n",
    "        plt.xlabel('X Values')\n",
    "        plt.ylabel('Y Values')\n",
    "        plt.legend()\n",
    "        plt.grid(True)\n",
    "\n",
    "        # Show the plot\n",
    "        plt.show()\n",
    "    except Exception as e:\n",
    "        print(f\"Error plotting data: {e}\")\n",
    "\n",
    "def main():\n",
    "    \"\"\"Main function to generate and plot data.\"\"\"\n",
    "    x, y = generate_data()\n",
    "    plot_data(x, y)\n",
    "\n",
    "if __name__ == \"__main__\":\n",
    "    main()\n"
   ]
  }
 ],
 "metadata": {
  "language_info": {
   "name": "python"
  }
 },
 "nbformat": 4,
 "nbformat_minor": 2
}
