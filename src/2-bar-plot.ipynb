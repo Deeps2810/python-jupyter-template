{
 "cells": [
  {
   "cell_type": "markdown",
   "metadata": {},
   "source": [
    "### Exercise 2: Bar Plot with Colors"
   ]
  },
  {
   "cell_type": "code",
   "execution_count": null,
   "metadata": {},
   "outputs": [],
   "source": [
    "# TASK: Create a bar plot with the following data: categories = ['A', 'B', 'C', 'D'] and values = [5, 7, 3, 9].\n",
    "# Use different colors for each bar and add a title to the plot.\n",
    "#bar plot\n",
    "import matplotlib.pyplot as plt\n",
    "\n",
    "def generate_data():\n",
    "    \"\"\"Generates categories and values for the bar plot.\"\"\"\n",
    "    try:\n",
    "        categories = ['A', 'B', 'C', 'D']\n",
    "        values = [5, 7, 3, 9]\n",
    "        colors = ['red', 'blue', 'green', 'purple']\n",
    "        return categories, values, colors\n",
    "    except Exception as e:\n",
    "        print(f\"Error generating data: {e}\")\n",
    "        return None, None, None\n",
    "\n",
    "def plot_data(categories, values, colors):\n",
    "    \"\"\"Plots the bar chart with error handling.\"\"\"\n",
    "    try:\n",
    "        if categories is None or values is None or colors is None:\n",
    "            raise ValueError(\"Invalid data. Cannot plot.\")\n",
    "        \n",
    "        plt.figure(figsize=(6, 4))\n",
    "        plt.bar(categories, values, color=colors)\n",
    "\n",
    "        # Customize the plot\n",
    "        plt.title('Bar Plot of Categories vs Values')\n",
    "        plt.xlabel('Categories')\n",
    "        plt.ylabel('Values')\n",
    "\n",
    "        # Show the plot\n",
    "        plt.show()\n",
    "    except Exception as e:\n",
    "        print(f\"Error plotting data: {e}\")\n",
    "\n",
    "def main():\n",
    "    \"\"\"Main function to generate and plot data.\"\"\"\n",
    "    categories, values, colors = generate_data()\n",
    "    plot_data(categories, values, colors)\n",
    "\n",
    "if __name__ == \"__main__\":\n",
    "    main()\n"
   ]
  }
 ],
 "metadata": {
  "language_info": {
   "name": "python"
  }
 },
 "nbformat": 4,
 "nbformat_minor": 2
}
