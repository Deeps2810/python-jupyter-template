{
 "cells": [
  {
   "cell_type": "markdown",
   "metadata": {},
   "source": [
    "### Exercise 4: Pie Chart with Percentages"
   ]
  },
  {
   "cell_type": "code",
   "execution_count": null,
   "metadata": {},
   "outputs": [],
   "source": [
    "# TASK: Create a pie chart with the following data: labels = ['Python', 'Java', 'C++', 'JavaScript'] and sizes = [40, 25, 20, 15].\n",
    "# Display the percentages on the chart using autopct.\n",
    "#pie chart\n",
    "import matplotlib.pyplot as plt\n",
    "\n",
    "def generate_data():\n",
    "    \"\"\"Generates labels and sizes for the pie chart.\"\"\"\n",
    "    try:\n",
    "        labels = ['Python', 'Java', 'C++', 'JavaScript']\n",
    "        sizes = [40, 25, 20, 15]\n",
    "        return labels, sizes\n",
    "    except Exception as e:\n",
    "        print(f\"Error generating data: {e}\")\n",
    "        return None, None\n",
    "\n",
    "def plot_data(labels, sizes):\n",
    "    \"\"\"Plots the pie chart with error handling.\"\"\"\n",
    "    try:\n",
    "        if labels is None or sizes is None:\n",
    "            raise ValueError(\"Invalid data. Cannot plot.\")\n",
    "\n",
    "        plt.figure(figsize=(6, 6))\n",
    "        plt.pie(sizes, labels=labels, autopct='%1.1f%%', startangle=140, colors=['blue', 'green', 'red', 'purple'])\n",
    "\n",
    "        # Customize the plot\n",
    "        plt.title('Programming Languages Popularity')\n",
    "\n",
    "        # Show the plot\n",
    "        plt.show()\n",
    "    except Exception as e:\n",
    "        print(f\"Error plotting data: {e}\")\n",
    "\n",
    "def main():\n",
    "    \"\"\"Main function to generate and plot data.\"\"\"\n",
    "    labels, sizes = generate_data()\n",
    "    plot_data(labels, sizes)\n",
    "\n",
    "if __name__ == \"__main__\":\n",
    "    main()\n"
   ]
  }
 ],
 "metadata": {
  "language_info": {
   "name": "python"
  }
 },
 "nbformat": 4,
 "nbformat_minor": 2
}
