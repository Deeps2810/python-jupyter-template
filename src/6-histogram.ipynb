{
 "cells": [
  {
   "cell_type": "markdown",
   "metadata": {},
   "source": [
    "### Exercise 6: Histogram Customization"
   ]
  },
  {
   "cell_type": "code",
   "execution_count": null,
   "metadata": {},
   "outputs": [],
   "source": [
    "# TASK: Create a histogram for the following data: data = [1, 2, 2, 3, 3, 3, 4, 4, 4, 4, 5].\n",
    "# Customize the histogram with a title, labels for the x-axis, and a specific color for the bars.\n",
    "#histogram\n",
    "import matplotlib.pyplot as plt\n",
    "\n",
    "def generate_data():\n",
    "    \"\"\"Generates data for the histogram.\"\"\"\n",
    "    try:\n",
    "        data = [1, 2, 2, 3, 3, 3, 4, 4, 4, 4, 5]\n",
    "        return data\n",
    "    except Exception as e:\n",
    "        print(f\"Error generating data: {e}\")\n",
    "        return None\n",
    "\n",
    "def plot_data(data):\n",
    "    \"\"\"Plots the histogram with error handling.\"\"\"\n",
    "    try:\n",
    "        if data is None:\n",
    "            raise ValueError(\"Invalid data. Cannot plot.\")\n",
    "\n",
    "        plt.figure(figsize=(6, 4))\n",
    "        plt.hist(data, bins=5, color='blue', edgecolor='black')  # Set color and bin size\n",
    "\n",
    "        # Customize the plot\n",
    "        plt.title('Histogram of Data')\n",
    "        plt.xlabel('Data Values')\n",
    "        plt.ylabel('Frequency')\n",
    "        plt.grid(axis='y', linestyle='--', alpha=0.7)  # Add a grid for better readability\n",
    "\n",
    "        # Show the plot\n",
    "        plt.show()\n",
    "    except Exception as e:\n",
    "        print(f\"Error plotting data: {e}\")\n",
    "\n",
    "def main():\n",
    "    \"\"\"Main function to generate and plot data.\"\"\"\n",
    "    data = generate_data()\n",
    "    plot_data(data)\n",
    "\n",
    "if __name__ == \"__main__\":\n",
    "    main()\n"
   ]
  }
 ],
 "metadata": {
  "language_info": {
   "name": "python"
  }
 },
 "nbformat": 4,
 "nbformat_minor": 2
}
